{
  "nbformat": 4,
  "nbformat_minor": 0,
  "metadata": {
    "colab": {
      "provenance": [],
      "authorship_tag": "ABX9TyM9hKc2xtINNVLWKY+C5MVT",
      "include_colab_link": true
    },
    "kernelspec": {
      "name": "python3",
      "display_name": "Python 3"
    },
    "language_info": {
      "name": "python"
    }
  },
  "cells": [
    {
      "cell_type": "markdown",
      "metadata": {
        "id": "view-in-github",
        "colab_type": "text"
      },
      "source": [
        "<a href=\"https://colab.research.google.com/github/iva88888/Vydrin-lab/blob/main/lab_2.ipynb\" target=\"_parent\"><img src=\"https://colab.research.google.com/assets/colab-badge.svg\" alt=\"Open In Colab\"/></a>"
      ]
    },
    {
      "cell_type": "code",
      "execution_count": null,
      "metadata": {
        "id": "X831QPzEh9MJ"
      },
      "outputs": [],
      "source": [
        "#1\n",
        "import pandas as pd\n",
        "\n",
        "df_amazon = pd.read_excel('AmazonBooks.xlsx')\n",
        "\n",
        "# Выводим последние 10 строк\n",
        "last_10_rows = df.tail(10)\n",
        "print(last_10_rows)"
      ]
    },
    {
      "cell_type": "code",
      "source": [
        "#2\n",
        "import pandas as pd\n",
        "\n",
        "file_path = 'AmazonBooks.xlsx'\n",
        "\n",
        "# Читаем Excel файл\n",
        "df = pd.read_excel(file_path)\n",
        "\n",
        "# Проверяем наличие столбца 'year'\n",
        "if 'year' in df.columns:\n",
        "    # Сортируем датафрейм по столбцу 'year' в порядке возрастания\n",
        "    sorted_df = df.sort_values(by='year', ascending=True)\n",
        "    print(sorted_df)\n",
        "\n",
        "else:\n",
        "    print(\"Столбец 'year' не найден в датафрейме.\")"
      ],
      "metadata": {
        "id": "8TPtHmz0ig8Y"
      },
      "execution_count": null,
      "outputs": []
    },
    {
      "cell_type": "code",
      "source": [
        "#3\n",
        "import pandas as pd\n",
        "\n",
        "file_path = 'AmazonBooks.xlsx'\n",
        "\n",
        "df = pd.read_excel(file_path)\n",
        "\n",
        "# Проверяем наличие столбца 'Price'\n",
        "if 'Price' in df.columns:\n",
        "    # Получаем срез данных с книгами, цена которых больше 20$\n",
        "    filtered_df = df[df['Price'] > 20]\n",
        "\n",
        "    # Проверяем, есть ли отфильтрованные данные\n",
        "    if not filtered_df.empty:\n",
        "\n",
        "        # Выводим отфильтрованный датафрейм\n",
        "        print(filtered_df)\n",
        "    else:\n",
        "        print(\"Нет книг дороже 20$.\")\n",
        "\n",
        "else:\n",
        "    print(\"Столбец 'Price' не найден в датафрейме.\")"
      ],
      "metadata": {
        "id": "WKR6Os2MjoCv"
      },
      "execution_count": null,
      "outputs": []
    },
    {
      "cell_type": "code",
      "source": [
        "#4\n",
        "import pandas as pd\n",
        "\n",
        "file_path = 'AmazonBooks.xlsx'\n",
        "\n",
        "df = pd.read_excel(file_path)\n",
        "\n",
        "# Проверяем, что необходимые столбцы существуют\n",
        "required_columns = ['Name', 'User Rating', 'Reviews']\n",
        "if all(column in df.columns for column in required_columns):\n",
        "\n",
        "    # Получаем срез данных, содержащий только необходимые столбцы\n",
        "    sliced_df = df[required_columns]\n",
        "\n",
        "    # Выводим получившийся датафрейм\n",
        "    print(sliced_df)\n",
        "\n",
        "else:\n",
        "    missing_columns = [column for column in required_columns if column not in df.columns]\n",
        "    print(f\"Отсутствуют следующие столбцы в датафрейме: {', '.join(missing_columns)}\")"
      ],
      "metadata": {
        "id": "D6cQAaLwj_pS"
      },
      "execution_count": null,
      "outputs": []
    },
    {
      "cell_type": "code",
      "source": [
        "#5\n",
        "import pandas as pd\n",
        "\n",
        "file_path = 'AmazonBooks.xlsx'\n",
        "\n",
        "df = pd.read_excel(file_path)\n",
        "\n",
        "# Фильтруем данные для 2011 года\n",
        "df_2011 = df[df['Year'] == 2011]\n",
        "\n",
        "# Проверяем существование колонки 'Reviews'\n",
        "if 'Reviews' in df_2011.columns:\n",
        "\n",
        "    # Рассчитываем 75-й квантиль для отзывов\n",
        "    reviews_75th_quantile = df_2011['Reviews'].quantile(0.75)\n",
        "\n",
        "    # Получаем уникальных авторов, у которых количество отзывов больше 75 квантиля\n",
        "    unique_authors = df_2011[df_2011['Reviews'] > reviews_75th_quantile]['Author'].unique().tolist()\n",
        "\n",
        "    # Выводим список уникальных авторов\n",
        "    print(unique_authors)\n",
        "\n",
        "else:\n",
        "    print(\"Столбец 'Reviews' отсутствует в датафрейме.\")"
      ],
      "metadata": {
        "id": "K6K40jSfklIK"
      },
      "execution_count": null,
      "outputs": []
    },
    {
      "cell_type": "code",
      "source": [
        "#6\n",
        "import pandas as pd\n",
        "\n",
        "file_path = 'AmazonBooks.xlsx'\n",
        "\n",
        "df = pd.read_excel(file_path)\n",
        "\n",
        "# Проверяем, что столбец 'Genre' существует\n",
        "if 'Genre' in df.columns:\n",
        "\n",
        "    # Преобразуем столбец Genre в тип category\n",
        "    df['genre_categories'] = df['Genre'].astype('category')\n",
        "\n",
        "    # Создаем новый столбец genre_codes с кодами категорий\n",
        "    df['genre_codes'] = df['genre_categories'].cat.codes\n",
        "\n",
        "    # Сохраняем изменения в новый Excel файл\n",
        "    upd_file_path = 'updated_' + file_path\n",
        "    df.to_excel(upd_file_path, index=False)\n",
        "    print(f\"Новый файл с добавленными столбцами сохранен как: {upd_file_path}\")\n",
        "\n",
        "else:\n",
        "    print(\"Столбец 'Genre' отсутствует в датафрейме.\")"
      ],
      "metadata": {
        "id": "GjWjyWk1oCz2"
      },
      "execution_count": null,
      "outputs": []
    }
  ]
}